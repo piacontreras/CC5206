{
 "cells": [
  {
   "cell_type": "markdown",
   "metadata": {
    "colab_type": "text",
    "id": "p_XcuC2rXQWb",
    "pycharm": {}
   },
   "source": [
    "# Laboratorio 2.1: Clasificación\n",
    "\n",
    "Bárbara Poblete, Felipe Bravo, Aymé Arango, Alison Fernandez, Mabel Sánchez, Juan Pablo Silva\n",
    "\n",
    "**Mayo 2020**"
   ]
  },
  {
   "cell_type": "markdown",
   "metadata": {
    "colab_type": "text",
    "id": "RvarrC_jXQWe",
    "pycharm": {}
   },
   "source": [
    "## ============= Declaración de compromiso ético =============\n",
    "\n",
    "Las siguientes personas: ********AGREGUE SU(S) NOMBRE(S)********, declaran no incurrir en copia, ni compartir respuestas con otras personas. Por lo que, ratifican que las respuestas de la presente actividad son de su propia confección y reflejan su propio conocimiento.\n",
    "\n",
    "## =========== Contribución de cada integrante del grupo  ==========\n",
    "\n",
    "Sólo en caso de desarrollar el presente laboratorio en grupo (de máximo dos), especifique la contribución:\n",
    "\n",
    "::\n",
    "\n",
    "::"
   ]
  },
  {
   "cell_type": "markdown",
   "metadata": {
    "colab_type": "text",
    "heading_collapsed": true,
    "id": "bxEPucKhXQWg",
    "pycharm": {}
   },
   "source": [
    "# Instrucciones\n",
    "\n",
    "\n",
    "1. Trabaje de manera individual o en grupo de 2 personas. Asegúrese de agregar su(s) nombre(s) en la Declaración de compromiso ético y especificar la contribución de cada integrante en caso de trabajar en grupo.\n",
    "\n",
    "2. Modifique este archivo `.ipynb` agregando sus respuestas donde corresponda. \n",
    "\n",
    "3. Cuando finalice el laboratorio, **genere un archivo HTML** usando jupyter (ver tutorial 2: *Descargar el archivo HTML*) y súbalo a U-Cursos. El laboratorio debe ser entregado por 1 integrante, en caso de trabajar en grupo .\n",
    "\n",
    "4. Las respuestas a cada pregunta se deben escribir en los bloques que dicen **RESPUESTA A PREGUNTA X.X**."
   ]
  },
  {
   "cell_type": "markdown",
   "metadata": {
    "colab_type": "text",
    "id": "SMUzxXj7XQWi",
    "pycharm": {}
   },
   "source": [
    "# Del Laboratorio\n",
    "\n",
    "En este laboratorio, primero vamos a hacer un análisis de datos y luego vamos a entrenar un clasificador de 3 maneras: \n",
    "\n",
    "* Entrenar/testear con los mismos datos,  \n",
    "\n",
    "* Dividiendo el dataset en una parte para entrenar y otra para testear, y finalmente, \n",
    "\n",
    "* Usando cross-validation. Veremos accuracy, precision y recall para luego analizar los resultados. \n"
   ]
  },
  {
   "cell_type": "markdown",
   "metadata": {
    "colab_type": "text",
    "id": "NKZg9pEFXQWj",
    "pycharm": {}
   },
   "source": [
    "# PARTE 1: Explorar un dataset"
   ]
  },
  {
   "cell_type": "markdown",
   "metadata": {
    "colab_type": "text",
    "id": "wjW5R_p5XQWj",
    "pycharm": {}
   },
   "source": [
    "Usaremos el **Wine Dataset**, que viene en **scikit-learn**. Para ello, ejecutaremos la siguiente línea de código para cargar nuestro dataset."
   ]
  },
  {
   "cell_type": "code",
   "execution_count": null,
   "metadata": {
    "colab": {},
    "colab_type": "code",
    "id": "QrBP5aiSXQWk",
    "pycharm": {}
   },
   "outputs": [],
   "source": [
    "from sklearn.datasets import load_wine"
   ]
  },
  {
   "cell_type": "markdown",
   "metadata": {
    "colab_type": "text",
    "id": "B3b92IPxXQWn",
    "pycharm": {}
   },
   "source": [
    "## PREGUNTA 1.1\n",
    "\n",
    "Indique lo siguiente:\n",
    "* Tamaño del dataset (cantidad de instancias y atributos). \n",
    "* ¿Cuántas clases son?\n",
    "* ¿Qué nombre tienen las clases?\n",
    "* ¿Cuántas instancias hay en cada clase?\n",
    "\n",
    "Indique en cada caso cómo obtuvo la respuesta, es decir, adjunte código."
   ]
  },
  {
   "cell_type": "markdown",
   "metadata": {
    "colab_type": "text",
    "id": "qTwql4e0XQWo",
    "pycharm": {}
   },
   "source": [
    "### RESPUESTA A PREGUNTA 1.1"
   ]
  },
  {
   "cell_type": "code",
   "execution_count": null,
   "metadata": {
    "colab": {
     "base_uri": "https://localhost:8080/",
     "height": 1000
    },
    "colab_type": "code",
    "executionInfo": {
     "elapsed": 759,
     "status": "ok",
     "timestamp": 1566237057864,
     "user": {
      "displayName": "juglar dz",
      "photoUrl": "https://lh5.googleusercontent.com/-EAfk8YjeYXM/AAAAAAAAAAI/AAAAAAAAAlQ/s7B0ebfu7gA/s64/photo.jpg",
      "userId": "14270876077972191340"
     },
     "user_tz": 240
    },
    "id": "SLX-FMIBXQWp",
    "outputId": "7d8c3ead-4496-4634-8604-b06e982410e6"
   },
   "outputs": [],
   "source": [
    "####### Respuesta #######\n",
    "\n",
    "\n",
    "\n",
    "\n"
   ]
  },
  {
   "cell_type": "markdown",
   "metadata": {
    "colab_type": "text",
    "id": "AKH5aB3_XQWs",
    "pycharm": {}
   },
   "source": [
    "## PREGUNTA 1.2\n",
    "\n",
    "Explique:\n",
    "- ¿Qué hacen las siguientes líneas de código?\n",
    "- ¿Qué nos muestra este gráfico? \n",
    "- ¿Cuáles son las principales observaciones que puede obtener sobre los datos a partir de los gráficos?"
   ]
  },
  {
   "cell_type": "code",
   "execution_count": null,
   "metadata": {
    "colab": {
     "base_uri": "https://localhost:8080/",
     "height": 905
    },
    "colab_type": "code",
    "executionInfo": {
     "elapsed": 5180,
     "status": "ok",
     "timestamp": 1566237062297,
     "user": {
      "displayName": "juglar dz",
      "photoUrl": "https://lh5.googleusercontent.com/-EAfk8YjeYXM/AAAAAAAAAAI/AAAAAAAAAlQ/s7B0ebfu7gA/s64/photo.jpg",
      "userId": "14270876077972191340"
     },
     "user_tz": 240
    },
    "id": "C-Gxhet_XQWt",
    "outputId": "fd53379a-a2b5-4cc3-af54-2ffe337133ee",
    "pycharm": {
     "is_executing": false
    }
   },
   "outputs": [],
   "source": [
    "## EJECUTAR ESTE BLOQUE\n",
    "\n",
    "import matplotlib.pyplot as plt\n",
    "import seaborn as sns; sns.set(style=\"ticks\", color_codes=True)\n",
    "import pandas as pd\n",
    "\n",
    "wine = load_wine()\n",
    "data = pd.DataFrame(data=wine['data'], columns=wine['feature_names'])\n",
    "\n",
    "data['target'] = wine['target']\n",
    "data['class'] = data['target'].map(lambda ind: wine['target_names'][ind])\n",
    "\n",
    "g = sns.pairplot(data.iloc[:, [0,2,3,9,10]]) # Parametro kind=\"reg\" agrega una recta\n",
    "plt.show()"
   ]
  },
  {
   "cell_type": "markdown",
   "metadata": {
    "colab_type": "text",
    "id": "ogTF6j9VXQWz",
    "pycharm": {}
   },
   "source": [
    "### RESPUESTA A PREGUNTA 1.2\n",
    "\n",
    "::\n",
    "\n",
    "::"
   ]
  },
  {
   "cell_type": "markdown",
   "metadata": {
    "colab_type": "text",
    "id": "JXcHtXFUXQW1",
    "pycharm": {}
   },
   "source": [
    "# PARTE 2: Entrenar/testear"
   ]
  },
  {
   "cell_type": "markdown",
   "metadata": {
    "colab_type": "text",
    "id": "651JYu7VXQW2",
    "pycharm": {}
   },
   "source": [
    "En esta parte useremos el clasificador **Decision Tree**. Veremos distintas formas de usarlo, y vamos a compararlas utilizando diversas métricas. "
   ]
  },
  {
   "cell_type": "markdown",
   "metadata": {
    "colab_type": "text",
    "id": "6HRB6oDBXQW3",
    "pycharm": {}
   },
   "source": [
    "## PREGUNTA 2.1\n",
    "\n",
    "Usando el siguiente código, complete lo que falta para cargar los datos, entrenar y hacer una predicción empleando el clasificador. Luego, muestre las métricas de **accuracy**, **precision**, **recall** y **f1-score**."
   ]
  },
  {
   "cell_type": "code",
   "execution_count": null,
   "metadata": {
    "colab": {
     "base_uri": "https://localhost:8080/",
     "height": 204
    },
    "colab_type": "code",
    "executionInfo": {
     "elapsed": 5162,
     "status": "ok",
     "timestamp": 1566237062298,
     "user": {
      "displayName": "juglar dz",
      "photoUrl": "https://lh5.googleusercontent.com/-EAfk8YjeYXM/AAAAAAAAAAI/AAAAAAAAAlQ/s7B0ebfu7gA/s64/photo.jpg",
      "userId": "14270876077972191340"
     },
     "user_tz": 240
    },
    "id": "TIKF6nyJXQW3",
    "outputId": "afb8392d-eef2-49d3-8048-10b42fe50ce8",
    "pycharm": {}
   },
   "outputs": [],
   "source": [
    "## RESPUESTA PREGUNTA 2.1\n",
    "\n",
    "from sklearn.tree import DecisionTreeClassifier\n",
    "from sklearn.metrics import accuracy_score\n",
    "from sklearn.metrics import classification_report\n",
    "\n",
    "clf = DecisionTreeClassifier()\n",
    "\n",
    "X = wine.data      ## datos, caracteristicas o features \n",
    "y = wine.target    ## clase para cada instancia anterior\n",
    "\n",
    "# .... COMPLETE ACA\n",
    "\n",
    "\n",
    "\n"
   ]
  },
  {
   "cell_type": "markdown",
   "metadata": {},
   "source": [
    "## PREGUNTA 2.2\n",
    "\n",
    "Explique cada una de las líneas de código de la pregunta 2.1 (omita las líneas que cargan librerías)."
   ]
  },
  {
   "cell_type": "markdown",
   "metadata": {},
   "source": [
    "### RESPUESTA A PREGUNTA 2.2\n",
    "::\n",
    "\n",
    "::"
   ]
  },
  {
   "cell_type": "markdown",
   "metadata": {
    "colab_type": "text",
    "id": "pNEQK4DYXQW6",
    "pycharm": {}
   },
   "source": [
    "## PREGUNTA 2.3\n",
    "\n",
    "De acuerdo a las métricas obtenidas: \n",
    "\n",
    "1. ¿Qué opina sobre las predicciones? \n",
    "2. ¿Recomendaría utilizar este clasificador en una aplicacion para clasificar vinos? ¿Por qué?\n",
    "2. ¿Qué problema puede identificar?"
   ]
  },
  {
   "cell_type": "markdown",
   "metadata": {
    "colab_type": "text",
    "heading_collapsed": true,
    "id": "O9Eu_jn4XQW6",
    "pycharm": {}
   },
   "source": [
    "### RESPUESTA A PREGUNTA 2.3\n",
    "::\n",
    "\n",
    "::"
   ]
  },
  {
   "cell_type": "markdown",
   "metadata": {
    "colab_type": "text",
    "id": "NrbsK3d1XQW8",
    "pycharm": {}
   },
   "source": [
    "# PARTE 3: Dividiendo el dataset para entrenar y testear"
   ]
  },
  {
   "cell_type": "markdown",
   "metadata": {},
   "source": [
    "Ahora lo que haremos será dividir nuestro dataset en 70% entrenar (***training set***) y 30% para testear (***testing set***). Use la función ***train_test_split()*** de *sklearn* y utilice las variables `X_train, X_test, y_train, y_test`.\n",
    "\n",
    "## PREGUNTA 3.1\n",
    "\n",
    "Escriba el código necesario para entrenar el modelo e indique el **accuracy**, **precision** y **recall** del clasificador. \n",
    "Entrene usando el ***training set*** y pruebe sobre el ***testing set***, en base a la división 70%-30%, respectivamente \n",
    "\n",
    "**NOTA: para dividir el dataset use el parámetro `stratify=y`.**"
   ]
  },
  {
   "cell_type": "code",
   "execution_count": null,
   "metadata": {
    "colab": {
     "base_uri": "https://localhost:8080/",
     "height": 204
    },
    "colab_type": "code",
    "executionInfo": {
     "elapsed": 5148,
     "status": "ok",
     "timestamp": 1566237062300,
     "user": {
      "displayName": "juglar dz",
      "photoUrl": "https://lh5.googleusercontent.com/-EAfk8YjeYXM/AAAAAAAAAAI/AAAAAAAAAlQ/s7B0ebfu7gA/s64/photo.jpg",
      "userId": "14270876077972191340"
     },
     "user_tz": 240
    },
    "id": "cYvg3e6nXQW9",
    "outputId": "339e278e-dbec-4360-8726-52314e210bf1",
    "pycharm": {}
   },
   "outputs": [],
   "source": [
    "### RESPUESTA A PREGUNTA 3.1\n",
    "# Recuerde usar las variables X_train, X_test, y_train, y_test\n",
    "\n",
    "\n",
    "\n"
   ]
  },
  {
   "cell_type": "markdown",
   "metadata": {},
   "source": [
    "## PREGUNTA 3.2\n",
    "\n",
    "Según el resultado obtenido en la pregunta anterior, responda lo siguiente:\n",
    "\n",
    "1. ¿Cuál clasificador tiene peores resultados? ¿Por qué?\n",
    "2. ¿Considera este clasificador mejor o peor que el anterior? ¿Por qué? (pregunta sobre el modelo, no sobre el método)\n",
    "3. ¿En qué situaciones utilizaría este clasificador en vez del anterior?\n",
    "4. ¿Cuál de las dos formas de entrenar el clasificador prefiere? "
   ]
  },
  {
   "cell_type": "markdown",
   "metadata": {
    "colab_type": "text",
    "id": "EQx0_vw1XQXC"
   },
   "source": [
    "### RESPUESTA A PREGUNTA 3.2\n",
    "\n",
    "::\n",
    "\n",
    "::"
   ]
  },
  {
   "cell_type": "markdown",
   "metadata": {
    "colab_type": "text",
    "id": "tL6TPIutXQXD",
    "pycharm": {}
   },
   "source": [
    "## PREGUNTA 3.3\n",
    "\n",
    "El siguiente código genera una matriz de confusión de los resultados de clasificación de la pregunta 3.1. Ejecute el bloque completo para visualizar el gráfico. Interprete la matriz y comente sobre cada uno de los valores distintos de 0 en la matriz y describa lo que representa."
   ]
  },
  {
   "cell_type": "code",
   "execution_count": null,
   "metadata": {},
   "outputs": [],
   "source": [
    "## EJECUTAR ESTE BLOQUE\n",
    "\n",
    "from sklearn.metrics import confusion_matrix\n",
    "from sklearn.utils.multiclass import unique_labels\n",
    "\n",
    "# Compute confusion matrix. By default is not normalized (normalize=None)\n",
    "# If necessary change 'y_pred' according to your variable name\n",
    "cm = confusion_matrix(y_test, y_pred) \n",
    "\n",
    "# Only use the labels that appear in the data\n",
    "classes = wine.target_names[unique_labels(y_test, y_pred)]\n",
    "\n",
    "df = pd.DataFrame(cm, index = classes, columns = classes)\n",
    "\n",
    "g = sns.heatmap(df, annot=True, cmap=\"Blues\")\n",
    "g.set_yticklabels(g.get_yticklabels(), rotation = 0)\n",
    "\n",
    "plt.title('Confusion matrix \\n')\n",
    "plt.xlabel('Predicted label')\n",
    "plt.ylabel('True label')\n",
    "\n",
    "plt.autoscale()"
   ]
  },
  {
   "cell_type": "markdown",
   "metadata": {
    "colab_type": "text",
    "id": "EioZq9ZEXQXG",
    "pycharm": {}
   },
   "source": [
    "### RESPUESTA A PREGUNTA 3.3\n",
    "::\n",
    "\n",
    "::"
   ]
  },
  {
   "cell_type": "markdown",
   "metadata": {
    "colab_type": "text",
    "id": "UQhwN6meXQXH",
    "pycharm": {}
   },
   "source": [
    "# PARTE 4: Cross-validation"
   ]
  },
  {
   "cell_type": "markdown",
   "metadata": {},
   "source": [
    "Con cross-validation, el conjunto de entrenamiento se divide en $k$ conjuntos disjuntos; se entrena sobre los datos correspondientes a $k-1$ de éstos, y se evalúa sobre el conjunto restante. Esto se repite $k$ veces, evaluando siempre sobre un conjunto distinto. Teniendo en cuenta el parámetro $k$, a éste método se le llama $k$-fold cross-validation.\n",
    "\n",
    "El código que está a continuación realizará 10-fold cross-validation usando Decision Tree sobre los datos. La forma de estimar el rendimiento del clasificador es, entre otras cosas, calculando el promedio de todos los k-folds.\n",
    "\n",
    "Además se muestra la predición sobre los datos para testear. "
   ]
  },
  {
   "cell_type": "code",
   "execution_count": null,
   "metadata": {
    "colab": {
     "base_uri": "https://localhost:8080/",
     "height": 85
    },
    "colab_type": "code",
    "executionInfo": {
     "elapsed": 5113,
     "status": "ok",
     "timestamp": 1566237062302,
     "user": {
      "displayName": "juglar dz",
      "photoUrl": "https://lh5.googleusercontent.com/-EAfk8YjeYXM/AAAAAAAAAAI/AAAAAAAAAlQ/s7B0ebfu7gA/s64/photo.jpg",
      "userId": "14270876077972191340"
     },
     "user_tz": 240
    },
    "id": "gJyyPpzxXQXI",
    "outputId": "250e9c2c-a93c-4e68-a829-27f245968048",
    "pycharm": {}
   },
   "outputs": [],
   "source": [
    "## EJECUTAR ESTE BLOQUE\n",
    "\n",
    "from sklearn.model_selection import cross_validate\n",
    "import numpy as np\n",
    "\n",
    "scoring = ['precision_macro', 'recall_macro', 'accuracy', 'f1_macro']\n",
    "cv_results = cross_validate(clf, X, y, cv = 10, scoring = scoring, return_train_score= True)\n",
    "\n",
    "print('Promedio Precision:', np.mean(cv_results['test_precision_macro']))\n",
    "print('Promedio Recall:', np.mean(cv_results['test_recall_macro']))\n",
    "print('Promedio F1-score:', np.mean(cv_results['test_f1_macro']))\n",
    "print('Promedio Accucary:', np.mean(cv_results['test_accuracy']))\n",
    "\n",
    "#Si quisieramos mostrar el resultado de cada k-fold, deberiamos quitar la \n",
    "#funcion np.mean para calcular el promedio. Esto mostraría una lista con el resultado de cada fold"
   ]
  },
  {
   "cell_type": "markdown",
   "metadata": {
    "colab_type": "text",
    "id": "U6_ceSH0XQXK",
    "pycharm": {}
   },
   "source": [
    "## PREGUNTA 4.1\n",
    "\n",
    "- ¿Qué indican los resultados obtenidos? \n",
    "\n",
    "- Compare los valores de las métricas con respecto a lo obtenido en la pregunta 3.1 y comente en qué difieren y por qué.\n",
    "\n",
    "- ¿Qué beneficios tiene emplear cross-validation?"
   ]
  },
  {
   "cell_type": "markdown",
   "metadata": {
    "colab_type": "text",
    "id": "asJ34Xw1XQXL",
    "pycharm": {}
   },
   "source": [
    "### RESPUESTA A PREGUNTA 4.1\n",
    "\n",
    "::\n",
    "\n",
    "::"
   ]
  },
  {
   "cell_type": "markdown",
   "metadata": {
    "colab_type": "text",
    "id": "LCJ9w1GfXQXL",
    "pycharm": {}
   },
   "source": [
    "# PARTE 5: FINAL"
   ]
  },
  {
   "cell_type": "markdown",
   "metadata": {
    "colab_type": "text",
    "id": "skKeKVBpXQXM",
    "pycharm": {}
   },
   "source": [
    "## PREGUNTA 5.1\n",
    "\n",
    "Respecto a los 3 tipos de experimentos (1. entrenando y testeando con los mismos datos, 2. dividiendo el dataset en train y test, y 3. usando Cross-validation):\n",
    "\n",
    "- ¿Cuál considera que es el mejor? Justifique el por qué de su respuesta haciendo referencia al tamaño del dataset, distribución de clases, casos de overfitting, entre otras cosas.\n",
    "\n",
    "- ¿Cuál considera que es el peor y por qué no debería utilizarse?"
   ]
  },
  {
   "cell_type": "markdown",
   "metadata": {
    "colab_type": "text",
    "id": "B7BhISPcXQXN",
    "pycharm": {}
   },
   "source": [
    "### RESPUESTA A PREGUNTA 5.1\n",
    "::\n",
    "\n",
    "::\n"
   ]
  },
  {
   "cell_type": "markdown",
   "metadata": {
    "colab_type": "text",
    "id": "eXY52YV6XQXO",
    "pycharm": {}
   },
   "source": [
    "## PREGUNTA 5.2\n",
    "\n",
    "Entrene un clasificador empleando k-nearest neighbors (**KNN**) considerando 15 vecinos y cross validation de 10 folds. \n",
    "\n",
    "Compare el resultado de cross validation obtenido usando Decision Tree y KNN. ¿Hay algún efecto notorio en cuanto al desempeño de ambos clasificadores? ¿Se podría decir que uno es mejor que otro? Explique."
   ]
  },
  {
   "cell_type": "markdown",
   "metadata": {
    "colab_type": "text",
    "id": "lthpvEgMXQXO",
    "pycharm": {}
   },
   "source": [
    "### RESPUESTA A PREGUNTA 5.2 (CÓDIGO)"
   ]
  },
  {
   "cell_type": "code",
   "execution_count": null,
   "metadata": {
    "colab": {
     "base_uri": "https://localhost:8080/",
     "height": 173
    },
    "colab_type": "code",
    "executionInfo": {
     "elapsed": 5371,
     "status": "ok",
     "timestamp": 1566237062579,
     "user": {
      "displayName": "juglar dz",
      "photoUrl": "https://lh5.googleusercontent.com/-EAfk8YjeYXM/AAAAAAAAAAI/AAAAAAAAAlQ/s7B0ebfu7gA/s64/photo.jpg",
      "userId": "14270876077972191340"
     },
     "user_tz": 240
    },
    "id": "YN_T27-XXQXP",
    "outputId": "216799c4-e0c3-44d2-f31e-03d4fa94c941",
    "pycharm": {}
   },
   "outputs": [],
   "source": [
    "# Para cargar KNN\n",
    "from sklearn.neighbors import KNeighborsClassifier\n",
    "\n",
    "K = 15 # numero de vecinos\n",
    "knn = KNeighborsClassifier(n_neighbors=K)  \n",
    "\n",
    "## AGREGUE CODIGO PREGUNTA 5.2\n",
    "\n",
    "\n",
    "\n"
   ]
  },
  {
   "cell_type": "markdown",
   "metadata": {
    "colab_type": "text",
    "id": "7NvW2VFiXQXT",
    "pycharm": {}
   },
   "source": [
    "### RESPUESTA A PREGUNTA 5.2 (EXPLICACIÓN)\n",
    "\n",
    "::\n",
    "\n",
    "::\n"
   ]
  },
  {
   "cell_type": "markdown",
   "metadata": {},
   "source": [
    "## PREGUNTA 5.3\n",
    "\n",
    "Un consultor en minería de datos tiene la siguiente estrategia al momento de enfrentar un problema de clasificación: probar todos los modelos posibles hasta encontrar uno que tenga cero error de entrenamiento. Comente la estrategia del consultor y proponga una estrategia alternativa."
   ]
  },
  {
   "cell_type": "markdown",
   "metadata": {},
   "source": [
    "### RESPUESTA A PREGUNTA 5.3\n",
    "\n",
    "::\n",
    "\n",
    "::"
   ]
  },
  {
   "cell_type": "markdown",
   "metadata": {},
   "source": [
    "## PREGUNTA 5.4\n",
    "\n",
    "El mismo consultor siempre usa la misma métrica para evaluar un modelo: accuracy. Comente la estrategia del consultor y proponga una estrategia alternativa."
   ]
  },
  {
   "cell_type": "markdown",
   "metadata": {},
   "source": [
    "### RESPUESTA A PREGUNTA 5.4\n",
    "\n",
    "::\n",
    "\n",
    "::"
   ]
  }
 ],
 "metadata": {
  "anaconda-cloud": {},
  "colab": {
   "collapsed_sections": [],
   "name": "lab2.1-PAUTA_CC5206_2019-2.ipynb",
   "provenance": []
  },
  "hide_input": false,
  "kernelspec": {
   "display_name": "Python 3",
   "language": "python",
   "name": "python3"
  },
  "language_info": {
   "codemirror_mode": {
    "name": "ipython",
    "version": 3
   },
   "file_extension": ".py",
   "mimetype": "text/x-python",
   "name": "python",
   "nbconvert_exporter": "python",
   "pygments_lexer": "ipython3",
   "version": "3.7.6"
  },
  "toc": {
   "base_numbering": 1,
   "nav_menu": {},
   "number_sections": true,
   "sideBar": true,
   "skip_h1_title": false,
   "title_cell": "Table of Contents",
   "title_sidebar": "Contents",
   "toc_cell": false,
   "toc_position": {},
   "toc_section_display": true,
   "toc_window_display": false
  },
  "varInspector": {
   "cols": {
    "lenName": 16,
    "lenType": 16,
    "lenVar": 40
   },
   "kernels_config": {
    "python": {
     "delete_cmd_postfix": "",
     "delete_cmd_prefix": "del ",
     "library": "var_list.py",
     "varRefreshCmd": "print(var_dic_list())"
    },
    "r": {
     "delete_cmd_postfix": ") ",
     "delete_cmd_prefix": "rm(",
     "library": "var_list.r",
     "varRefreshCmd": "cat(var_dic_list()) "
    }
   },
   "types_to_exclude": [
    "module",
    "function",
    "builtin_function_or_method",
    "instance",
    "_Feature"
   ],
   "window_display": false
  }
 },
 "nbformat": 4,
 "nbformat_minor": 1
}
